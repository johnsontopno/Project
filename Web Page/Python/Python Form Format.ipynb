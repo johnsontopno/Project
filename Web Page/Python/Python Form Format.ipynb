{
 "cells": [
  {
   "cell_type": "code",
   "execution_count": null,
   "id": "b4b76010-fb5f-492b-a71f-60954a33eb43",
   "metadata": {},
   "outputs": [],
   "source": []
  },
  {
   "cell_type": "code",
   "execution_count": 216,
   "id": "8a26a392-8829-4ca2-bc39-2778a5825dcd",
   "metadata": {},
   "outputs": [
    {
     "name": "stdout",
     "output_type": "stream",
     "text": [
      "value of username is: Johnson\n",
      "value of password is: 123456\n"
     ]
    }
   ],
   "source": [
    "from tkinter import *\n",
    "\n",
    "def getvals():\n",
    "    print(f\"value of username is: {uservalue.get()}\")\n",
    "    print(f\"value of password is: {passwordvalue.get()}\")\n",
    "\n",
    "root = Tk()\n",
    "root.geometry(\"250x100\")\n",
    "root.title(\"Grid Layout\")\n",
    "\n",
    "\n",
    "user = Label(root, text=\"username\")\n",
    "password = Label(root, text=\"password\")\n",
    "\n",
    "uservalue = StringVar()\n",
    "passwordvalue = StringVar()\n",
    "\n",
    "userentry = Entry(root, textvariable=uservalue)\n",
    "passwordentry = Entry(root, textvariable=passwordvalue)\n",
    "\n",
    "userentry.grid(column=1, row=1)\n",
    "passwordentry.grid(row=2, column=1)\n",
    "\n",
    "user.grid(column=0, row=1)\n",
    "password.grid(column=0, row=2)\n",
    "\n",
    "Button(text=\"Submit\", command=getvals).grid(columnspan=2)\n",
    "\n",
    "root.mainloop()\n"
   ]
  },
  {
   "cell_type": "code",
   "execution_count": null,
   "id": "91d0accd-871a-4f66-8b3a-3dca96b7c920",
   "metadata": {},
   "outputs": [],
   "source": []
  }
 ],
 "metadata": {
  "kernelspec": {
   "display_name": "Python 3 (ipykernel)",
   "language": "python",
   "name": "python3"
  },
  "language_info": {
   "codemirror_mode": {
    "name": "ipython",
    "version": 3
   },
   "file_extension": ".py",
   "mimetype": "text/x-python",
   "name": "python",
   "nbconvert_exporter": "python",
   "pygments_lexer": "ipython3",
   "version": "3.12.4"
  }
 },
 "nbformat": 4,
 "nbformat_minor": 5
}
